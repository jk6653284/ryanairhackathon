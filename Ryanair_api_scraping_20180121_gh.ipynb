{
 "cells": [
  {
   "cell_type": "code",
   "execution_count": 1,
   "metadata": {
    "collapsed": true
   },
   "outputs": [],
   "source": [
    "import requests\n",
    "import pandas as pd\n",
    "import numpy as np"
   ]
  },
  {
   "cell_type": "code",
   "execution_count": 2,
   "metadata": {
    "collapsed": true
   },
   "outputs": [],
   "source": [
    "def get_schedule_month(dep,arr,year,month):\n",
    "    response = requests.get(\"https://api.ryanair.com/timetable/3/schedules/{}/{}/years/{}/months/{}?apikey=__apikey__\".format(dep,arr,year,month)).json()\n",
    "    return response"
   ]
  },
  {
   "cell_type": "code",
   "execution_count": 7,
   "metadata": {},
   "outputs": [
    {
     "data": {
      "text/html": [
       "<div>\n",
       "<style>\n",
       "    .dataframe thead tr:only-child th {\n",
       "        text-align: right;\n",
       "    }\n",
       "\n",
       "    .dataframe thead th {\n",
       "        text-align: left;\n",
       "    }\n",
       "\n",
       "    .dataframe tbody tr th {\n",
       "        vertical-align: top;\n",
       "    }\n",
       "</style>\n",
       "<table border=\"1\" class=\"dataframe\">\n",
       "  <thead>\n",
       "    <tr style=\"text-align: right;\">\n",
       "      <th></th>\n",
       "      <th>airportFrom</th>\n",
       "      <th>airportTo</th>\n",
       "      <th>connectingAirport</th>\n",
       "      <th>newRoute</th>\n",
       "      <th>seasonalRoute</th>\n",
       "      <th>group</th>\n",
       "    </tr>\n",
       "  </thead>\n",
       "  <tbody>\n",
       "    <tr>\n",
       "      <th>0</th>\n",
       "      <td>CRL</td>\n",
       "      <td>CAG</td>\n",
       "      <td>None</td>\n",
       "      <td>False</td>\n",
       "      <td>False</td>\n",
       "      <td>CITY</td>\n",
       "    </tr>\n",
       "    <tr>\n",
       "      <th>1</th>\n",
       "      <td>FRA</td>\n",
       "      <td>SVQ</td>\n",
       "      <td>None</td>\n",
       "      <td>False</td>\n",
       "      <td>False</td>\n",
       "      <td>GENERIC</td>\n",
       "    </tr>\n",
       "    <tr>\n",
       "      <th>2</th>\n",
       "      <td>PIK</td>\n",
       "      <td>CFU</td>\n",
       "      <td>None</td>\n",
       "      <td>False</td>\n",
       "      <td>False</td>\n",
       "      <td>LEISURE</td>\n",
       "    </tr>\n",
       "    <tr>\n",
       "      <th>3</th>\n",
       "      <td>BDS</td>\n",
       "      <td>OPO</td>\n",
       "      <td>BGY</td>\n",
       "      <td>False</td>\n",
       "      <td>False</td>\n",
       "      <td>GENERIC</td>\n",
       "    </tr>\n",
       "    <tr>\n",
       "      <th>4</th>\n",
       "      <td>BOD</td>\n",
       "      <td>ORK</td>\n",
       "      <td>None</td>\n",
       "      <td>False</td>\n",
       "      <td>False</td>\n",
       "      <td>LEISURE</td>\n",
       "    </tr>\n",
       "  </tbody>\n",
       "</table>\n",
       "</div>"
      ],
      "text/plain": [
       "  airportFrom airportTo connectingAirport newRoute seasonalRoute    group\n",
       "0         CRL       CAG              None    False         False     CITY\n",
       "1         FRA       SVQ              None    False         False  GENERIC\n",
       "2         PIK       CFU              None    False         False  LEISURE\n",
       "3         BDS       OPO               BGY    False         False  GENERIC\n",
       "4         BOD       ORK              None    False         False  LEISURE"
      ]
     },
     "execution_count": 7,
     "metadata": {},
     "output_type": "execute_result"
    }
   ],
   "source": [
    "parameters = {'apikey': __apikey__}\n",
    "res = requests.get(\"http://apigateway.ryanair.com/pub/v1/core/3/routes\", \n",
    "                   params = parameters)\n",
    "res = res.json()\n",
    "\n",
    "routes_cols = []\n",
    "for key, value in res[0].items():\n",
    "    routes_cols.append(key)\n",
    "    \n",
    "import pandas as pd\n",
    "# empty data frame\n",
    "routes = pd.DataFrame(columns = routes_cols,\n",
    "                      index = range(len(res)))\n",
    "index = 0\n",
    "for i in res:\n",
    "    for j in routes_cols:\n",
    "        routes[j]\n",
    "        \n",
    "for i in range(len(res)):\n",
    "    for j in routes_cols:\n",
    "        routes[j][i] = res[i][j]\n",
    "        \n",
    "routes.head()"
   ]
  },
  {
   "cell_type": "code",
   "execution_count": 14,
   "metadata": {},
   "outputs": [
    {
     "data": {
      "text/plain": [
       "4145"
      ]
     },
     "execution_count": 14,
     "metadata": {},
     "output_type": "execute_result"
    }
   ],
   "source": [
    "route_codes = []\n",
    "for i in range(len(routes)):\n",
    "    dep = routes['airportFrom'][i]\n",
    "    arr = routes['airportTo'][i]\n",
    "    route_codes.append(tuple([dep,arr]))\n",
    "\n",
    "len(route_codes)"
   ]
  },
  {
   "cell_type": "code",
   "execution_count": 11,
   "metadata": {
    "collapsed": true
   },
   "outputs": [],
   "source": [
    "def test_jj(route_codes,year,month):\n",
    "    samp_df = pd.DataFrame(columns = ['route_dep', 'route_arr',\n",
    "                                  'year', 'month',\n",
    "                                  'day_date','dep_time',\n",
    "                                  'arr_time'])\n",
    "    ind = len(samp_df)\n",
    "    for i in range(len(route_codes)):\n",
    "        schedules = get_schedule_month(route_codes[i][0],route_codes[i][1], year, month)\n",
    "        \n",
    "        if 'days' in schedules:\n",
    "            for d in schedules['days']:\n",
    "                day_date = d['day']\n",
    "                for j in range(len(d['flights'])):\n",
    "                    dep_time = d['flights'][j]['departureTime']\n",
    "                    arr_time = d['flights'][j]['arrivalTime']\n",
    "\n",
    "                    samp_df.loc[ind,:] = [route_codes[i][0],route_codes[i][1],\n",
    "                                                 year,month,day_date,dep_time,\n",
    "                                                 arr_time]\n",
    "                    ind = ind + 1\n",
    "        \n",
    "    return samp_df"
   ]
  },
  {
   "cell_type": "code",
   "execution_count": 122,
   "metadata": {
    "collapsed": true
   },
   "outputs": [],
   "source": [
    "schedule_10_1000 = test_jj(route_codes[:1000], '2018', '10')"
   ]
  },
  {
   "cell_type": "code",
   "execution_count": 123,
   "metadata": {
    "collapsed": true
   },
   "outputs": [],
   "source": [
    "schedule_10_2000 = test_jj(route_codes[1000:2000], '2018', '10')"
   ]
  },
  {
   "cell_type": "code",
   "execution_count": 124,
   "metadata": {
    "collapsed": true
   },
   "outputs": [],
   "source": [
    "schedule_10_3000 = test_jj(route_codes[2000:3000], '2018','10')"
   ]
  },
  {
   "cell_type": "code",
   "execution_count": 125,
   "metadata": {
    "collapsed": true
   },
   "outputs": [],
   "source": [
    "schedule_10_4145= test_jj(route_codes[3000:], '2018', '10') \n",
    " "
   ]
  },
  {
   "cell_type": "code",
   "execution_count": 158,
   "metadata": {
    "collapsed": true
   },
   "outputs": [],
   "source": [
    "schedule_10 = pd.concat([schedule_10_1000,schedule_10_2000,\n",
    "                       schedule_10_3000,schedule_10_4145])"
   ]
  },
  {
   "cell_type": "code",
   "execution_count": 159,
   "metadata": {},
   "outputs": [
    {
     "name": "stdout",
     "output_type": "stream",
     "text": [
      "<class 'pandas.core.frame.DataFrame'>\n",
      "Int64Index: 61704 entries, 0 to 16954\n",
      "Data columns (total 7 columns):\n",
      "route_dep    61704 non-null object\n",
      "route_arr    61704 non-null object\n",
      "year         61704 non-null object\n",
      "month        61704 non-null object\n",
      "day_date     61704 non-null object\n",
      "dep_time     61704 non-null object\n",
      "arr_time     61704 non-null object\n",
      "dtypes: object(7)\n",
      "memory usage: 3.8+ MB\n"
     ]
    }
   ],
   "source": [
    "schedule_10.info()"
   ]
  },
  {
   "cell_type": "code",
   "execution_count": 128,
   "metadata": {
    "collapsed": true
   },
   "outputs": [],
   "source": [
    "schedule_10.to_csv(\"schedules_oct.csv\", sep = '\\t')"
   ]
  },
  {
   "cell_type": "code",
   "execution_count": 166,
   "metadata": {
    "collapsed": true
   },
   "outputs": [],
   "source": [
    "year_ryan = pd.concat([schedule_1,schedule_2,\n",
    "                 schedule_3,schedule_4,schedule_5,\n",
    "                 schedule_6,schedule_7,\n",
    "                 schedule_8,schedule_9,\n",
    "                 schedule_10])"
   ]
  },
  {
   "cell_type": "code",
   "execution_count": 130,
   "metadata": {
    "collapsed": true
   },
   "outputs": [],
   "source": [
    "year_ryan.to_csv(\"schedules_year.csv\", sep = '\\t')"
   ]
  },
  {
   "cell_type": "code",
   "execution_count": 167,
   "metadata": {},
   "outputs": [
    {
     "name": "stdout",
     "output_type": "stream",
     "text": [
      "<class 'pandas.core.frame.DataFrame'>\n",
      "Int64Index: 607776 entries, 0 to 16954\n",
      "Data columns (total 7 columns):\n",
      "route_dep    607776 non-null object\n",
      "route_arr    607776 non-null object\n",
      "year         607776 non-null object\n",
      "month        607776 non-null object\n",
      "day_date     607776 non-null object\n",
      "dep_time     607776 non-null object\n",
      "arr_time     607776 non-null object\n",
      "dtypes: object(7)\n",
      "memory usage: 37.1+ MB\n"
     ]
    }
   ],
   "source": [
    "year_ryan.info()"
   ]
  },
  {
   "cell_type": "code",
   "execution_count": 179,
   "metadata": {
    "collapsed": true
   },
   "outputs": [],
   "source": [
    "year_ryan = year_ryan.reset_index(drop = True)"
   ]
  },
  {
   "cell_type": "code",
   "execution_count": 180,
   "metadata": {
    "collapsed": true
   },
   "outputs": [],
   "source": [
    "year_ryan[['year','month','day_date']] = year_ryan[['year','month','day_date']].apply(pd.to_numeric)"
   ]
  },
  {
   "cell_type": "code",
   "execution_count": 182,
   "metadata": {},
   "outputs": [
    {
     "name": "stdout",
     "output_type": "stream",
     "text": [
      "<class 'pandas.core.frame.DataFrame'>\n",
      "RangeIndex: 607776 entries, 0 to 607775\n",
      "Data columns (total 8 columns):\n",
      "route_dep    607776 non-null object\n",
      "route_arr    607776 non-null object\n",
      "year         607776 non-null int64\n",
      "month        607776 non-null int64\n",
      "day_date     607776 non-null int64\n",
      "dep_time     607776 non-null object\n",
      "arr_time     607776 non-null object\n",
      "date         607776 non-null object\n",
      "dtypes: int64(3), object(5)\n",
      "memory usage: 37.1+ MB\n"
     ]
    }
   ],
   "source": [
    "year_ryan.info()"
   ]
  },
  {
   "cell_type": "code",
   "execution_count": 187,
   "metadata": {
    "collapsed": true
   },
   "outputs": [],
   "source": [
    "year_ryan['date'] = year_ryan.year.map(str)\n",
    "year_ryan['datem'] = year_ryan.month.map(str)\n",
    "year_ryan['dateday'] = year_ryan.day_date.map(str)"
   ]
  },
  {
   "cell_type": "code",
   "execution_count": 188,
   "metadata": {},
   "outputs": [
    {
     "data": {
      "text/html": [
       "<div>\n",
       "<style>\n",
       "    .dataframe thead tr:only-child th {\n",
       "        text-align: right;\n",
       "    }\n",
       "\n",
       "    .dataframe thead th {\n",
       "        text-align: left;\n",
       "    }\n",
       "\n",
       "    .dataframe tbody tr th {\n",
       "        vertical-align: top;\n",
       "    }\n",
       "</style>\n",
       "<table border=\"1\" class=\"dataframe\">\n",
       "  <thead>\n",
       "    <tr style=\"text-align: right;\">\n",
       "      <th></th>\n",
       "      <th>route_dep</th>\n",
       "      <th>route_arr</th>\n",
       "      <th>year</th>\n",
       "      <th>month</th>\n",
       "      <th>day_date</th>\n",
       "      <th>dep_time</th>\n",
       "      <th>arr_time</th>\n",
       "      <th>date</th>\n",
       "      <th>datem</th>\n",
       "      <th>dateday</th>\n",
       "    </tr>\n",
       "  </thead>\n",
       "  <tbody>\n",
       "    <tr>\n",
       "      <th>0</th>\n",
       "      <td>CRL</td>\n",
       "      <td>CAG</td>\n",
       "      <td>2018</td>\n",
       "      <td>1</td>\n",
       "      <td>22</td>\n",
       "      <td>20:50</td>\n",
       "      <td>23:05</td>\n",
       "      <td>2018</td>\n",
       "      <td>1</td>\n",
       "      <td>22</td>\n",
       "    </tr>\n",
       "    <tr>\n",
       "      <th>1</th>\n",
       "      <td>CRL</td>\n",
       "      <td>CAG</td>\n",
       "      <td>2018</td>\n",
       "      <td>1</td>\n",
       "      <td>26</td>\n",
       "      <td>17:50</td>\n",
       "      <td>20:05</td>\n",
       "      <td>2018</td>\n",
       "      <td>1</td>\n",
       "      <td>26</td>\n",
       "    </tr>\n",
       "    <tr>\n",
       "      <th>2</th>\n",
       "      <td>CRL</td>\n",
       "      <td>CAG</td>\n",
       "      <td>2018</td>\n",
       "      <td>1</td>\n",
       "      <td>29</td>\n",
       "      <td>20:50</td>\n",
       "      <td>23:05</td>\n",
       "      <td>2018</td>\n",
       "      <td>1</td>\n",
       "      <td>29</td>\n",
       "    </tr>\n",
       "    <tr>\n",
       "      <th>3</th>\n",
       "      <td>FRA</td>\n",
       "      <td>SVQ</td>\n",
       "      <td>2018</td>\n",
       "      <td>1</td>\n",
       "      <td>20</td>\n",
       "      <td>07:30</td>\n",
       "      <td>10:25</td>\n",
       "      <td>2018</td>\n",
       "      <td>1</td>\n",
       "      <td>20</td>\n",
       "    </tr>\n",
       "    <tr>\n",
       "      <th>4</th>\n",
       "      <td>FRA</td>\n",
       "      <td>SVQ</td>\n",
       "      <td>2018</td>\n",
       "      <td>1</td>\n",
       "      <td>23</td>\n",
       "      <td>07:30</td>\n",
       "      <td>10:25</td>\n",
       "      <td>2018</td>\n",
       "      <td>1</td>\n",
       "      <td>23</td>\n",
       "    </tr>\n",
       "  </tbody>\n",
       "</table>\n",
       "</div>"
      ],
      "text/plain": [
       "  route_dep route_arr  year  month  day_date dep_time arr_time  date datem  \\\n",
       "0       CRL       CAG  2018      1        22    20:50    23:05  2018     1   \n",
       "1       CRL       CAG  2018      1        26    17:50    20:05  2018     1   \n",
       "2       CRL       CAG  2018      1        29    20:50    23:05  2018     1   \n",
       "3       FRA       SVQ  2018      1        20    07:30    10:25  2018     1   \n",
       "4       FRA       SVQ  2018      1        23    07:30    10:25  2018     1   \n",
       "\n",
       "  dateday  \n",
       "0      22  \n",
       "1      26  \n",
       "2      29  \n",
       "3      20  \n",
       "4      23  "
      ]
     },
     "execution_count": 188,
     "metadata": {},
     "output_type": "execute_result"
    }
   ],
   "source": [
    "year_ryan.head()"
   ]
  },
  {
   "cell_type": "code",
   "execution_count": 189,
   "metadata": {},
   "outputs": [
    {
     "name": "stdout",
     "output_type": "stream",
     "text": [
      "<class 'pandas.core.frame.DataFrame'>\n",
      "RangeIndex: 607776 entries, 0 to 607775\n",
      "Data columns (total 10 columns):\n",
      "route_dep    607776 non-null object\n",
      "route_arr    607776 non-null object\n",
      "year         607776 non-null int64\n",
      "month        607776 non-null int64\n",
      "day_date     607776 non-null int64\n",
      "dep_time     607776 non-null object\n",
      "arr_time     607776 non-null object\n",
      "date         607776 non-null object\n",
      "datem        607776 non-null object\n",
      "dateday      607776 non-null object\n",
      "dtypes: int64(3), object(7)\n",
      "memory usage: 46.4+ MB\n"
     ]
    }
   ],
   "source": [
    "year_ryan.info()"
   ]
  },
  {
   "cell_type": "code",
   "execution_count": null,
   "metadata": {
    "collapsed": true
   },
   "outputs": [],
   "source": []
  },
  {
   "cell_type": "code",
   "execution_count": null,
   "metadata": {
    "collapsed": true
   },
   "outputs": [],
   "source": []
  }
 ],
 "metadata": {
  "kernelspec": {
   "display_name": "Python 3",
   "language": "python",
   "name": "python3"
  },
  "language_info": {
   "codemirror_mode": {
    "name": "ipython",
    "version": 3
   },
   "file_extension": ".py",
   "mimetype": "text/x-python",
   "name": "python",
   "nbconvert_exporter": "python",
   "pygments_lexer": "ipython3",
   "version": "3.6.1"
  }
 },
 "nbformat": 4,
 "nbformat_minor": 2
}
